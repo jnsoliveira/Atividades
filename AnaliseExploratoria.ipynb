{
  "cells": [
    {
      "cell_type": "markdown",
      "metadata": {
        "id": "view-in-github",
        "colab_type": "text"
      },
      "source": [
        "<a href=\"https://colab.research.google.com/github/jnsoliveira/Atividades/blob/main/AnaliseExploratoria.ipynb\" target=\"_parent\"><img src=\"https://colab.research.google.com/assets/colab-badge.svg\" alt=\"Open In Colab\"/></a>"
      ]
    },
    {
      "cell_type": "markdown",
      "source": [
        "# **LINKS**\n",
        "\n",
        "Github(Para visualização do código) \n",
        "https://github.com/jnsoliveira/Atividades/blob/main/AnaliseExploratoria.ipynb\n",
        "\n",
        "GoogleColab(Para executar o código na Web, porém, é necessário fazer o upload no Python Web dos arquivos 'vendas_tran.cvs' e 'vendedor.csv' que se encontram em meu repositório ‘Atividades’ do Github)\n",
        "https://colab.research.google.com/github/jnsoliveira/Atividades/blob/main/AnaliseExploratoria.ipynb#scrollTo=4dnoZP_DxMBL"
      ],
      "metadata": {
        "id": "4dnoZP_DxMBL"
      }
    },
    {
      "cell_type": "markdown",
      "source": [
        "# **TAREFA**\n",
        "\n",
        "Utilizando os arquivos 'vendas_tran.csv' e 'vendedor.csv' realize uma análise exploratória identificando oportunidades e explique sua linha de raciocínio e conclusão."
      ],
      "metadata": {
        "id": "L1lisK5GxWuX"
      }
    },
    {
      "cell_type": "markdown",
      "source": [
        "**Foi realizada uma análise exploratória simples atráves dos arquivos disponibilizados para utilização.** \n",
        "\n",
        "\n",
        "**O código foi documentado para melhor entendimento tanto do código em si e para verificação do raciocínio.**"
      ],
      "metadata": {
        "id": "5kJzLY8jyt9l"
      }
    },
    {
      "cell_type": "code",
      "source": [
        "#Bibliotecas\n",
        "import pandas as pd\n",
        "import matplotlib.pyplot as plt"
      ],
      "metadata": {
        "id": "i9ynM9qTYwxq"
      },
      "execution_count": null,
      "outputs": []
    },
    {
      "cell_type": "code",
      "source": [
        "#Arquivo vendas em dataframe\n",
        "vendas = pd.read_csv('vendas_tran.csv',header=None,encoding='latin1',on_bad_lines='skip',sep=';')\n",
        "\n",
        "#Arquivo vendedor em dataframe\n",
        "vendedor = pd.read_csv('vendedor.csv')"
      ],
      "metadata": {
        "id": "6LnD3lnQMA_L"
      },
      "execution_count": null,
      "outputs": []
    },
    {
      "cell_type": "code",
      "source": [
        "#Verificando as colunas do dataset\n",
        "vendas.columns"
      ],
      "metadata": {
        "id": "LDYa38bAZnSJ",
        "outputId": "e7462484-ebb2-4919-d742-7f93c10d1bc9",
        "colab": {
          "base_uri": "https://localhost:8080/"
        }
      },
      "execution_count": null,
      "outputs": [
        {
          "output_type": "execute_result",
          "data": {
            "text/plain": [
              "Int64Index([0, 1, 2, 3, 4, 5, 6, 7, 8, 9, 10, 11, 12, 13, 14, 15, 16, 17, 18,\n",
              "            19, 20],\n",
              "           dtype='int64')"
            ]
          },
          "metadata": {},
          "execution_count": 170
        }
      ]
    },
    {
      "cell_type": "code",
      "source": [
        "#Tamanho do dataset\n",
        "vendas.shape"
      ],
      "metadata": {
        "id": "FMO3KCU6hH2M",
        "outputId": "60a742c2-3d40-4af8-d650-7744ef05bcec",
        "colab": {
          "base_uri": "https://localhost:8080/"
        }
      },
      "execution_count": null,
      "outputs": [
        {
          "output_type": "execute_result",
          "data": {
            "text/plain": [
              "(9995, 21)"
            ]
          },
          "metadata": {},
          "execution_count": 172
        }
      ]
    },
    {
      "cell_type": "code",
      "source": [
        "print('O dataset possui',vendas.shape[0], 'registros e', vendas.shape[1], 'atributos.')"
      ],
      "metadata": {
        "id": "jJUYsBDVhq7O",
        "outputId": "ed6964fe-4ed9-475c-c474-5f24cab8a95c",
        "colab": {
          "base_uri": "https://localhost:8080/"
        }
      },
      "execution_count": null,
      "outputs": [
        {
          "output_type": "stream",
          "name": "stdout",
          "text": [
            "O dataset possui 9995 registros e 21 atributos.\n"
          ]
        }
      ]
    },
    {
      "cell_type": "code",
      "source": [
        "#Exibindo os primeiros registros\n",
        "vendas.head"
      ],
      "metadata": {
        "id": "pvgBvTZ5OJCP",
        "outputId": "131c9047-b469-4291-f2f0-a8d12dc7aae7",
        "colab": {
          "base_uri": "https://localhost:8080/"
        }
      },
      "execution_count": null,
      "outputs": [
        {
          "output_type": "execute_result",
          "data": {
            "text/plain": [
              "<bound method NDFrame.head of          0               1           2           3               4   \\\n",
              "0     RowID         OrderID   OrderDate    ShipDate        ShipMode   \n",
              "1      9261  CA-2017-167976  11/11/2017  11/14/2017    Second Class   \n",
              "2      6990  CA-2017-165099  12/11/2017  12/13/2017     First Class   \n",
              "3       201  CA-2017-105074   6/24/2017   6/29/2017  Standard Class   \n",
              "4      3201  CA-2014-164224   5/18/2014   5/20/2014    Second Class   \n",
              "...     ...             ...         ...         ...             ...   \n",
              "9990   3348  CA-2015-112014   8/13/2015   8/20/2015  Standard Class   \n",
              "9991   7280  CA-2016-108224   5/14/2016   5/14/2016        Same Day   \n",
              "9992   8088  CA-2016-106621   9/29/2016   10/1/2016    Second Class   \n",
              "9993   4823  CA-2016-134222   7/10/2016   7/11/2016        Same Day   \n",
              "9994   7282  CA-2017-159282  10/16/2017  10/21/2017  Standard Class   \n",
              "\n",
              "              5                6            7              8         9   ...  \\\n",
              "0     CustomerID     CustomerName      Segment        Country      City  ...   \n",
              "1       JL-15505  Jeremy/Lonsdale     Consumer  United States  Aberdeen  ...   \n",
              "2       DK-13375      Dennis/Kane     Consumer  United States   Abilene  ...   \n",
              "3       MB-17305  Maria/Bertelson     Consumer  United States     Akron  ...   \n",
              "4       TT-21070      Ted/Trevino     Consumer  United States     Akron  ...   \n",
              "...          ...              ...          ...            ...       ...  ...   \n",
              "9990    ON-18715    Odella/Nelson    Corporate  United States   Yucaipa  ...   \n",
              "9991    TH-21235    Tiffany/House    Corporate  United States      Yuma  ...   \n",
              "9992    DM-12955     Dario/Medina    Corporate  United States      Yuma  ...   \n",
              "9993    NZ-18565    Nick/Zandusky  Home Office  United States      Yuma  ...   \n",
              "9994    GH-14410      Gary/Hansen  Home Office  United States      Yuma  ...   \n",
              "\n",
              "                 11               12               13           14  \\\n",
              "0        PostalCode        ProductID         Category  SubCategory   \n",
              "1     57401 Central  OFF-SU-10004661  Office Supplies     Supplies   \n",
              "2     79605 Central  OFF-AP-10001634  Office Supplies   Appliances   \n",
              "3        44312 East  OFF-PA-10002666  Office Supplies        Paper   \n",
              "4        44312 East  FUR-FU-10000308        Furniture  Furnishings   \n",
              "...             ...              ...              ...          ...   \n",
              "9990     92399 West  OFF-AR-10003156  Office Supplies          Art   \n",
              "9991     85364 West  TEC-AC-10003832       Technology  Accessories   \n",
              "9992     85364 West  OFF-AR-10002375  Office Supplies          Art   \n",
              "9993     85364 West  OFF-BI-10001658  Office Supplies      Binders   \n",
              "9994     85364 West  TEC-MA-10001148       Technology     Machines   \n",
              "\n",
              "                                                     15      16        17  \\\n",
              "0                                           ProductName   Sales  Quantity   \n",
              "1                         Acme Titanium Bonded Scissors    25,5         3   \n",
              "2          Hoover Commercial Lightweight Upright Vacuum    1,39         2   \n",
              "3     Southworth 25% Cotton Linen-Finish Paper & Env...   21,74         3   \n",
              "4              Deflect-o Glass Clear Studded Chair Mats  149,23         3   \n",
              "...                                                 ...     ...       ...   \n",
              "9990                            50 Colored Long Pencils    50,8         5   \n",
              "9991  Imation 16GB Mini TravelDrive USB 2.0 Flash Drive  185,53         7   \n",
              "9992                                         Newell 351    10,5         4   \n",
              "9993                   GBC Standard Therm-A-Bind Covers   44,86         6   \n",
              "9994       Swingline SM12-08 MicroCut Jam Free Shredder  599,99         5   \n",
              "\n",
              "            18       19             20  \n",
              "0     Discount   Profit  SalesPersonId  \n",
              "1            0     6,63           3029  \n",
              "2          0,8    -3,76           3032  \n",
              "3          0,2      6,8           3029  \n",
              "4          0,2     3,73           3031  \n",
              "...        ...      ...            ...  \n",
              "9990         0    13,21           3031  \n",
              "9991       0,2     48,7           3032  \n",
              "9992       0,2     1,18           3032  \n",
              "9993       0,7   -35,88           3031  \n",
              "9994       0,7  -479,99           3032  \n",
              "\n",
              "[9995 rows x 21 columns]>"
            ]
          },
          "metadata": {},
          "execution_count": 167
        }
      ]
    },
    {
      "cell_type": "code",
      "source": [
        "#Verificando as colunas do dataset\n",
        "vendedor.columns"
      ],
      "metadata": {
        "id": "ynMzqe9AgjRp",
        "outputId": "ea317775-92c9-4c9a-b422-7745253e0571",
        "colab": {
          "base_uri": "https://localhost:8080/"
        }
      },
      "execution_count": null,
      "outputs": [
        {
          "output_type": "execute_result",
          "data": {
            "text/plain": [
              "Index(['Salespersonid;SalesPersonName;SalesPersonLastName;Region'], dtype='object')"
            ]
          },
          "metadata": {},
          "execution_count": 171
        }
      ]
    },
    {
      "cell_type": "code",
      "source": [
        "#Tamanho do dataset\n",
        "vendedor.shape"
      ],
      "metadata": {
        "id": "hiVlewJxhYdH",
        "outputId": "1a1b656b-9c6b-48fe-ade6-fa1b0f5cd352",
        "colab": {
          "base_uri": "https://localhost:8080/"
        }
      },
      "execution_count": null,
      "outputs": [
        {
          "output_type": "execute_result",
          "data": {
            "text/plain": [
              "(4, 1)"
            ]
          },
          "metadata": {},
          "execution_count": 169
        }
      ]
    },
    {
      "cell_type": "code",
      "source": [
        "print('O dataset possui',vendedor.shape[0], 'registros e', vendedor.shape[1], 'atributos.')"
      ],
      "metadata": {
        "id": "YdowMPIJh5ep",
        "outputId": "c571e3ec-9290-4f08-e599-54606cc6ad8f",
        "colab": {
          "base_uri": "https://localhost:8080/"
        }
      },
      "execution_count": null,
      "outputs": [
        {
          "output_type": "stream",
          "name": "stdout",
          "text": [
            "O dataset possui 4 registros e 1 atributos.\n"
          ]
        }
      ]
    },
    {
      "cell_type": "code",
      "source": [
        "#Exibindo os primeiros registros\n",
        "vendedor.head"
      ],
      "metadata": {
        "id": "xMVbGDHsOMBm",
        "outputId": "9c4d6fa6-2aee-4ee4-f3fc-b9726d0dc945",
        "colab": {
          "base_uri": "https://localhost:8080/"
        }
      },
      "execution_count": null,
      "outputs": [
        {
          "output_type": "execute_result",
          "data": {
            "text/plain": [
              "<bound method NDFrame.head of   Salespersonid;SalesPersonName;SalesPersonLastName;Region\n",
              "0                            3029;Anna;Andreadi;West      \n",
              "1                              3030;Chuck;Magee;East      \n",
              "2                        3031;Kelly;Williams;Central      \n",
              "3                       3032;Cassandra;Brandow;South      >"
            ]
          },
          "metadata": {},
          "execution_count": 126
        }
      ]
    },
    {
      "cell_type": "code",
      "source": [
        "#Verificando dados nulos\n",
        "df.isna().sum()"
      ],
      "metadata": {
        "id": "v-VipZhBiTyW",
        "outputId": "68c9004b-b1b0-40e3-e14f-ac58420a0bc0",
        "colab": {
          "base_uri": "https://localhost:8080/"
        }
      },
      "execution_count": null,
      "outputs": [
        {
          "output_type": "execute_result",
          "data": {
            "text/plain": [
              "0     0\n",
              "1     0\n",
              "2     0\n",
              "3     0\n",
              "4     0\n",
              "5     0\n",
              "6     0\n",
              "7     0\n",
              "8     0\n",
              "9     0\n",
              "10    0\n",
              "11    0\n",
              "12    0\n",
              "13    0\n",
              "14    0\n",
              "15    0\n",
              "16    0\n",
              "17    0\n",
              "18    0\n",
              "19    0\n",
              "20    0\n",
              "dtype: int64"
            ]
          },
          "metadata": {},
          "execution_count": 166
        }
      ]
    },
    {
      "cell_type": "code",
      "source": [
        "#Quantas operacoes Anna teve\n",
        "(df[20]=='3029').value_counts()"
      ],
      "metadata": {
        "id": "VvPqEQ-DMPAa",
        "outputId": "f2db4191-0680-4738-adf8-ccb0edc5c36b",
        "colab": {
          "base_uri": "https://localhost:8080/"
        }
      },
      "execution_count": null,
      "outputs": [
        {
          "output_type": "execute_result",
          "data": {
            "text/plain": [
              "False    8787\n",
              "True     1208\n",
              "Name: 20, dtype: int64"
            ]
          },
          "metadata": {},
          "execution_count": 127
        }
      ]
    },
    {
      "cell_type": "code",
      "source": [
        "#Quantas operacoes Chuck teve\n",
        "(df[20]=='3030').value_counts()"
      ],
      "metadata": {
        "id": "n_qQJIaJMVS5",
        "outputId": "e480940f-03f6-4d1e-83c5-18fba38cc269",
        "colab": {
          "base_uri": "https://localhost:8080/"
        }
      },
      "execution_count": null,
      "outputs": [
        {
          "output_type": "execute_result",
          "data": {
            "text/plain": [
              "False    7703\n",
              "True     2292\n",
              "Name: 20, dtype: int64"
            ]
          },
          "metadata": {},
          "execution_count": 128
        }
      ]
    },
    {
      "cell_type": "code",
      "source": [
        "#Quantas operacoes Kelly teve\n",
        "(df[20]=='3031').value_counts()"
      ],
      "metadata": {
        "id": "sWGUZV0xemk8",
        "outputId": "71fd334c-2e18-4eb1-c2ea-90e2586a513c",
        "colab": {
          "base_uri": "https://localhost:8080/"
        }
      },
      "execution_count": null,
      "outputs": [
        {
          "output_type": "execute_result",
          "data": {
            "text/plain": [
              "False    6240\n",
              "True     3755\n",
              "Name: 20, dtype: int64"
            ]
          },
          "metadata": {},
          "execution_count": 129
        }
      ]
    },
    {
      "cell_type": "code",
      "source": [
        "#Quantas operacoes Cassandra teve\n",
        "(df[20]=='3032').value_counts()"
      ],
      "metadata": {
        "id": "lg918FLaenDl",
        "outputId": "d147047f-dbee-49a9-a0c2-0967f699af6e",
        "colab": {
          "base_uri": "https://localhost:8080/"
        }
      },
      "execution_count": null,
      "outputs": [
        {
          "output_type": "execute_result",
          "data": {
            "text/plain": [
              "False    7256\n",
              "True     2739\n",
              "Name: 20, dtype: int64"
            ]
          },
          "metadata": {},
          "execution_count": 130
        }
      ]
    },
    {
      "cell_type": "code",
      "source": [
        "#Qual vendedor mais teve operacoes\n",
        "df[20].value_counts()"
      ],
      "metadata": {
        "id": "iKIuXTubefYA",
        "outputId": "8a2201fd-0eaa-4b34-a5dc-06a256c7d73f",
        "colab": {
          "base_uri": "https://localhost:8080/"
        }
      },
      "execution_count": null,
      "outputs": [
        {
          "output_type": "execute_result",
          "data": {
            "text/plain": [
              "3031             3755\n",
              "3032             2739\n",
              "3030             2292\n",
              "3029             1208\n",
              "SalesPersonId       1\n",
              "Name: 20, dtype: int64"
            ]
          },
          "metadata": {},
          "execution_count": 131
        }
      ]
    },
    {
      "cell_type": "code",
      "source": [
        "#Cidades com maior frequencia\n",
        "df[10].value_counts()"
      ],
      "metadata": {
        "id": "Hp9yCfOOMaiW",
        "outputId": "8a930dab-cd21-4bc5-9e7f-f306c5fff763",
        "colab": {
          "base_uri": "https://localhost:8080/"
        }
      },
      "execution_count": null,
      "outputs": [
        {
          "output_type": "execute_result",
          "data": {
            "text/plain": [
              "California              2001\n",
              "New York                1128\n",
              "Texas                    985\n",
              "Pennsylvania             587\n",
              "Washington               506\n",
              "Illinois                 492\n",
              "Ohio                     469\n",
              "Florida                  383\n",
              "Michigan                 255\n",
              "North Carolina           249\n",
              "Arizona                  224\n",
              "Virginia                 224\n",
              "Georgia                  184\n",
              "Tennessee                183\n",
              "Colorado                 182\n",
              "Indiana                  149\n",
              "Kentucky                 139\n",
              "Massachusetts            135\n",
              "New Jersey               130\n",
              "Oregon                   124\n",
              "Wisconsin                110\n",
              "Maryland                 105\n",
              "Delaware                  96\n",
              "Minnesota                 89\n",
              "Connecticut               82\n",
              "Oklahoma                  66\n",
              "Missouri                  66\n",
              "Alabama                   61\n",
              "Arkansas                  60\n",
              "Rhode Island              56\n",
              "Mississippi               53\n",
              "Utah                      53\n",
              "South Carolina            42\n",
              "Louisiana                 42\n",
              "Nevada                    39\n",
              "Nebraska                  38\n",
              "New Mexico                37\n",
              "Iowa                      30\n",
              "New Hampshire             27\n",
              "Kansas                    24\n",
              "Idaho                     21\n",
              "Montana                   15\n",
              "South Dakota              12\n",
              "Vermont                   11\n",
              "District of Columbia      10\n",
              "Maine                      8\n",
              "North Dakota               7\n",
              "West Virginia              4\n",
              "Wyoming                    1\n",
              "State                      1\n",
              "Name: 10, dtype: int64"
            ]
          },
          "metadata": {},
          "execution_count": 132
        }
      ]
    }
  ],
  "metadata": {
    "colab": {
      "collapsed_sections": [],
      "name": "Welcome To Colaboratory",
      "provenance": [],
      "include_colab_link": true
    },
    "kernelspec": {
      "display_name": "Python 3",
      "name": "python3"
    }
  },
  "nbformat": 4,
  "nbformat_minor": 0
}