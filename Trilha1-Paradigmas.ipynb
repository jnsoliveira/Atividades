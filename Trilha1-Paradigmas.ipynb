{
  "cells": [
    {
      "cell_type": "markdown",
      "metadata": {
        "id": "view-in-github",
        "colab_type": "text"
      },
      "source": [
        "<a href=\"https://colab.research.google.com/github/jnsoliveira/Atividades/blob/main/Trilha1-Paradigmas.ipynb\" target=\"_parent\"><img src=\"https://colab.research.google.com/assets/colab-badge.svg\" alt=\"Open In Colab\"/></a>"
      ]
    },
    {
      "cell_type": "markdown",
      "source": [
        "# **Links**\n",
        "\n",
        "Github - https://github.com/jnsoliveira/Atividades/blob/main/Trilha1-Paradigmas.ipynb\n",
        "\n",
        "GoogleColab - https://colab.research.google.com/github/jnsoliveira/Atividades/blob/main/Trilha1-Paradigmas.ipynb"
      ],
      "metadata": {
        "id": "did8xfcJ-x-l"
      }
    },
    {
      "cell_type": "markdown",
      "source": [
        "# **Atividade Trilha 1**"
      ],
      "metadata": {
        "id": "O3OP_GFa-1yt"
      }
    },
    {
      "cell_type": "markdown",
      "source": [
        "# **INTRODUÇÃO**"
      ],
      "metadata": {
        "id": "0ycGSdN63Ul3"
      }
    },
    {
      "cell_type": "markdown",
      "source": [
        "*   Texto escolhido: Resumo do filme Crônicas de Nárnia\n",
        "*   Fonte: http://atocadalebre.blogspot.com/\n",
        "*   Conteúdo: Blog de conteúdo literário, artístico e de cultura pop\n",
        "*   Escritor: Toca da Lebre\n",
        "*   Motivo da escolha: O resumo do filme Crônicas de Nárnia foi escolhido devido às grandes memórias que a trilogia me trouxe na infância nas quais me influênciaram à ser fã.\n"
      ],
      "metadata": {
        "id": "02DjDucG3XSX"
      }
    },
    {
      "cell_type": "markdown",
      "source": [
        ""
      ],
      "metadata": {
        "id": "ber8EqT84EMK"
      }
    },
    {
      "cell_type": "markdown",
      "source": [
        "# **BIBLIOTECAS**"
      ],
      "metadata": {
        "id": "uI0hph774cZY"
      }
    },
    {
      "cell_type": "code",
      "source": [
        "import pandas as pd\n",
        "import seaborn as sns\n",
        "import matplotlib as mpl\n",
        "import matplotlib.pyplot as plt\n",
        "import urllib.request"
      ],
      "metadata": {
        "id": "BliuWdoA4ewX"
      },
      "execution_count": null,
      "outputs": []
    },
    {
      "cell_type": "markdown",
      "source": [
        "# **BUSCANDO ARQUIVO**"
      ],
      "metadata": {
        "id": "zNKIc4Sc41EH"
      }
    },
    {
      "cell_type": "code",
      "source": [
        "texto = []\n",
        "\n",
        "for line in urllib.request.urlopen('https://raw.githubusercontent.com/jnsoliveira/Atividades/main/resumo_narnia.txt'):\n",
        "    texto.append(line.decode('utf-8'))\n",
        "\n",
        "for i in range(len(texto)):\n",
        "    texto[i] = texto[i].lower()\n",
        "    texto[i] = texto[i].replace('\\n','')\n",
        "    texto[i] = texto[i].replace('.','')\n",
        "    texto[i] = texto[i].replace(',','')\n",
        "    texto[i] = texto[i].replace('(','')\n",
        "    texto[i] = texto[i].replace(')','')\n",
        "    texto[i] = texto[i].replace('?','')\n",
        "    texto[i] = texto[i].replace('\\'','')\n",
        "    texto[i] = texto[i].replace('\\r','')\n",
        "\n",
        "print(texto)"
      ],
      "metadata": {
        "id": "TQe4S0xI43_3",
        "outputId": "f88061a5-02c7-486e-927e-68ffe8bca334",
        "colab": {
          "base_uri": "https://localhost:8080/"
        }
      },
      "execution_count": null,
      "outputs": [
        {
          "output_type": "stream",
          "name": "stdout",
          "text": [
            "['olá lebres o livro de hoje é as crônicas de nárnia uma série de livros de fantasia escrita pelo autor irlandês c s lewis entre os anos 1949 e 1954 composta pelos livros em ordem cronologia: o sobrinho do mago; o leão a feiticeira e o guarda-roupa; o cavalo e seu menino; príncipe caspian; a viagem do peregrino da alvorada; a cadeira de prata; a última batalha', 'a série apresenta jornadas de crianças que contem algo em comum todas descobrem um reino mágico e fantástico chamado nárnia onde os animais possuem o dom da fala e seguem o grande leão aslam ', 'as crônicas de nárnia é considerada um clássico literário e vendeu milhões de copias ao redor do mundo e é um excelente material para leitores interessados em uma boa história fantástica ', '', 'o sobrinho do mago:', 'o primeiro livro narra a estória de digory um garoto que morava com a mãe doente e os tios enquanto estava do lado de fora da casa conheceu sua vizinha polly os dois se tornaram amigos e resolveram investigar o sótão do tio andré pois digory acreditava que seu tio escondia algo muito importante lá dentro', 'chegando à sala de pesquisas do tio as crianças viram uma bandeja com anéis verdes e amarelos o tio que estava na sala ofereceu a polly um dos anéis amarelos ao tocá-lo a menina desapareceu tio andré explicou para digory que era um feiticeiro e que acabara de descobrir outros mundos o anel verde traria polly de volta mas para isso digory teria que ir atrás dela', 'ao encontrar polly digory percebeu que aquele bosque levaria a outros mundos as duas crianças foram se aventurar antes de voltar para a sala do tio', 'digory sem querer despertou uma feiticeira de uma terra abandonada ela lhe causou muitos problemas e ao tentar se livrarem dela digory e polly acabaram assistindo a criação de nárnia por seu criador aslam o leão dourado', '', 'o leão a feiticeira e o guarda-roupa:', 'durante a guerra em londres quatro irmãos pedro susana edmundo e lúcia foram mandados à casa de um velho professor para lá morarem nessa grande casa as crianças eram livres para fazerem o que quiserem durante uma brincadeira a pequena lúcia encontrou um guarda-roupa e entrou nele para se esconder dos irmãos', 'o guarda-roupa levava para uma terra mágica chamada nárnia lá lúcia conheceu o fauno tumnus e os dois tornaram-se amigos tumnus lhe contou que nárnia estava sendo governada pela terrível feiticeira branca e por esta razão a terra estava condenada ao inverno eterno', 'quando voltou para casa era como as horas não tivessem passado e ninguém deu falta dela lúcia contou aos irmãos sobre nárnia mas eles não acreditaram', 'em outro dia edmundo entrou no guarda-roupa e conheceu a feiticeira branca ela por sua vez fez a cabeça do menino para lhe trazer as outras crianças em troca edmundo se tornaria príncipe e mais tarde rei', '', 'quando finalmente as quatro crianças estavam em nárnia a feiticeira pode pôr seu plano em prática e ao contrário do que edmundo esperava a feiticeira não pretendia favorece-lo', '', 'o cavalo e seu menino:', 'nesse livro conhecemos a estória de shasta um menino que morava com um homem que se dizia seu pai na calormânia', 'certo dia um tarcaã e seu cavalo se hospedaram em sua casa o homem disse ao “pai” de shasta que queria comprar o menino para si shasta ficou com medo pois não sabia o que fazer acabou descobrindo que o cavalo do tarcaã bri sabia falar e vinha de uma terra chamada nárnia', 'os dois decidiram fugir juntos para nárnia pois não queria ficar com o tarcaã enquanto seguiam para o norte encontraram uma menina e sua égua aravis e huin que assim como eles estavam fugindo', 'em suas aventuras shasta acabou descobrindo que o príncipe dos calormanos tinha a intenção de invadir nárnia pois estava ofendido por susana a rainha de nárnia ter negado seu pedido de casamento restava a shasta e seus amigos impedirem essa guerra', '', 'príncipe caspian:', 'um ano se passou desde que pedro susana edmundo e lúcia voltaram de nárnia as crianças estavam na estação de trem para irem à escola mas foram puxados por uma força magica até seu antigo castelo', 'apesar de ter passo apenas um ano para as crianças em nárnia milhares de anos se passaram e o castelo dos reis e rainhas de nárnia estava abandonado', 'nessa nova nárnia a terra tinha sido invadida por teomarinos e o rei deles matou quase todos os habitantes da antiga nárnia não era permitido falar sobre as estórias do passado e nenhum animal podia falar os antigos habitantes tiveram que se esconder do rei durante anos', 'pedro susana edmundo e lúcia encontraram na floresta um anão os teomarinos tinham medo da ilha e deixavam as criaturas mágicas lá para morrerem', 'trumpkin o anão contou as crianças sobre o rei caspian um garoto sobrinho do rei que após fugir do castelo para não ser morto encontrou as criaturas falantes de nárnia e juntos tinham a intenção de guerrear contra o rei e tomar o seu lugar voltando aos velhos tempos de nárnia ', 'as crianças então com o auxilio de aslam encontram caspian e seu exercito e conseguem ajudar na batalha ', '', 'a viagem do peregrino da alvorada:', 'o pai dos irmãos pevensie foi chamado para trabalhar como professor nos estados unidos durante quatro meses a mãe resolveu ir junto com ele e levar susana pedro ficou na casa do professor kirke para estudar nas férias mas lúcia e edmundo tiveram que ir para casa dos tios', 'edmundo lúcia e eustáquio o primo estavam juntos em um dos quartos da casa e nesse quarto havia um quadro de um navio majestoso com a proa toda em dourado e no formato de uma cabeça de dragão edmundo e lúcia logo reconhecem o navio como sendo de nárnia e ficam extremamente saudosos e com vontade de retornar à terra encantada de repente os três se vêem dentro do navio o grande peregrino da alvorada', 'no navio eles encontram o príncipe caspian ripchip lorde drinian dentre outros caspian explica aos garotos que partiu em uma aventura em busca dos sete lordes que eram amigos de seu pai e que haviam sido expulsos quando o trono foi usurpado pelo seu tio miraz', 'as criançasdecidem ajudar o príncipe caspian a encontrar esses lordes e em sua busca acabam passando por vários lugares do mundo mágico', '', 'a cadeira de prata:', 'a estória começa com eustáquio e jill duas crianças que estudavam no colégio experimental na inglaterra e tornaram-se amigas', 'depois de uma decepção que jill sofre na escola eustáquio tentando consolá-la conta sobre nárnia aslam e suas aventuras vividas por ele e seus primos anteriormente as duas crianças então desejam ardentemente ir pra nárnia e pedem isso a aslam do fundo do coração', 'eustáquio é soprado para nárnia pelo leão e jill encontra-se com o grandioso aslam onde ele entrega sinais a jill para segui-los na missão de encontrar o príncipe perdido rilian filho de caspian x já que caspian estava idoso e queria ver o filho uma última vez antes de morrer o príncipe havia sumido há dez anos nos bosques de nárnia', 'as instruções dadas por aslam à jill eram pistas mas no decorrer da história ela esquece algumas o que acaba causando problemas a ela e aos seus amigos durante a busca', '', 'a última batalha:', 'a história começa quando um velho macaco chamado manhoso junto com um burro chamado confuso encontram uma pele de leão', 'o burro então veste a pele do leão e passa a propagar notícias falsas falando que aslam teria voltado e que confuso seria seu porta-voz', 'manhoso faz uma aliança com os calormanos para conquistar as terras de nárnia o rei tirian descendente do príncipe rilian toma conhecimento dos planos de confuso e manhoso e vai atrás deles para acabar com o sofrimento dos animais e árvores de nárnia', 'mas ao chegar ao local descobre que os calormanos é que estão derrubando as árvores e escravizando os animais tirian acaba se vendendo e passa a noite amarrado a uma árvore até que tem a ideia de pedir ajuda aos amigos de nárnia que estavam em outro mundo', 'essa ajuda vivia de pedro edmundo lúcia jill eustáquio polly digory e shasta todas as crianças que já estiveram e ajudaram nárnia anteriormente com exceção de susana que acabou deixando as aventuras de nária de lado']\n"
          ]
        }
      ]
    },
    {
      "cell_type": "markdown",
      "source": [
        "# **DICIONÁRIO**"
      ],
      "metadata": {
        "id": "rN9juWJd8lOX"
      }
    },
    {
      "cell_type": "code",
      "source": [
        "mydict = {}\n",
        "\n",
        "for line in texto:\n",
        "\n",
        "  line = line.lower()\n",
        "  words = line.split()\n",
        "  print(words)\n",
        "\n",
        "  for word in words:\n",
        "    if word not in mydict.keys():\n",
        "      mydict[word] = 1\n",
        "    else:\n",
        "      mydict[word] =  mydict[word] + 1 \n",
        "\n",
        "print(mydict)   "
      ],
      "metadata": {
        "id": "plP4iUCL8nzA",
        "outputId": "8f0cda3e-bc08-41b3-825d-e66fac9a55c0",
        "colab": {
          "base_uri": "https://localhost:8080/"
        }
      },
      "execution_count": null,
      "outputs": [
        {
          "output_type": "stream",
          "name": "stdout",
          "text": [
            "['olá', 'lebres', 'o', 'livro', 'de', 'hoje', 'é', 'as', 'crônicas', 'de', 'nárnia', 'uma', 'série', 'de', 'livros', 'de', 'fantasia', 'escrita', 'pelo', 'autor', 'irlandês', 'c', 's', 'lewis', 'entre', 'os', 'anos', '1949', 'e', '1954', 'composta', 'pelos', 'livros', 'em', 'ordem', 'cronologia:', 'o', 'sobrinho', 'do', 'mago;', 'o', 'leão', 'a', 'feiticeira', 'e', 'o', 'guarda-roupa;', 'o', 'cavalo', 'e', 'seu', 'menino;', 'príncipe', 'caspian;', 'a', 'viagem', 'do', 'peregrino', 'da', 'alvorada;', 'a', 'cadeira', 'de', 'prata;', 'a', 'última', 'batalha']\n",
            "['a', 'série', 'apresenta', 'jornadas', 'de', 'crianças', 'que', 'contem', 'algo', 'em', 'comum', 'todas', 'descobrem', 'um', 'reino', 'mágico', 'e', 'fantástico', 'chamado', 'nárnia', 'onde', 'os', 'animais', 'possuem', 'o', 'dom', 'da', 'fala', 'e', 'seguem', 'o', 'grande', 'leão', 'aslam']\n",
            "['as', 'crônicas', 'de', 'nárnia', 'é', 'considerada', 'um', 'clássico', 'literário', 'e', 'vendeu', 'milhões', 'de', 'copias', 'ao', 'redor', 'do', 'mundo', 'e', 'é', 'um', 'excelente', 'material', 'para', 'leitores', 'interessados', 'em', 'uma', 'boa', 'história', 'fantástica']\n",
            "[]\n",
            "['o', 'sobrinho', 'do', 'mago:']\n",
            "['o', 'primeiro', 'livro', 'narra', 'a', 'estória', 'de', 'digory', 'um', 'garoto', 'que', 'morava', 'com', 'a', 'mãe', 'doente', 'e', 'os', 'tios', 'enquanto', 'estava', 'do', 'lado', 'de', 'fora', 'da', 'casa', 'conheceu', 'sua', 'vizinha', 'polly', 'os', 'dois', 'se', 'tornaram', 'amigos', 'e', 'resolveram', 'investigar', 'o', 'sótão', 'do', 'tio', 'andré', 'pois', 'digory', 'acreditava', 'que', 'seu', 'tio', 'escondia', 'algo', 'muito', 'importante', 'lá', 'dentro']\n",
            "['chegando', 'à', 'sala', 'de', 'pesquisas', 'do', 'tio', 'as', 'crianças', 'viram', 'uma', 'bandeja', 'com', 'anéis', 'verdes', 'e', 'amarelos', 'o', 'tio', 'que', 'estava', 'na', 'sala', 'ofereceu', 'a', 'polly', 'um', 'dos', 'anéis', 'amarelos', 'ao', 'tocá-lo', 'a', 'menina', 'desapareceu', 'tio', 'andré', 'explicou', 'para', 'digory', 'que', 'era', 'um', 'feiticeiro', 'e', 'que', 'acabara', 'de', 'descobrir', 'outros', 'mundos', 'o', 'anel', 'verde', 'traria', 'polly', 'de', 'volta', 'mas', 'para', 'isso', 'digory', 'teria', 'que', 'ir', 'atrás', 'dela']\n",
            "['ao', 'encontrar', 'polly', 'digory', 'percebeu', 'que', 'aquele', 'bosque', 'levaria', 'a', 'outros', 'mundos', 'as', 'duas', 'crianças', 'foram', 'se', 'aventurar', 'antes', 'de', 'voltar', 'para', 'a', 'sala', 'do', 'tio']\n",
            "['digory', 'sem', 'querer', 'despertou', 'uma', 'feiticeira', 'de', 'uma', 'terra', 'abandonada', 'ela', 'lhe', 'causou', 'muitos', 'problemas', 'e', 'ao', 'tentar', 'se', 'livrarem', 'dela', 'digory', 'e', 'polly', 'acabaram', 'assistindo', 'a', 'criação', 'de', 'nárnia', 'por', 'seu', 'criador', 'aslam', 'o', 'leão', 'dourado']\n",
            "[]\n",
            "['o', 'leão', 'a', 'feiticeira', 'e', 'o', 'guarda-roupa:']\n",
            "['durante', 'a', 'guerra', 'em', 'londres', 'quatro', 'irmãos', 'pedro', 'susana', 'edmundo', 'e', 'lúcia', 'foram', 'mandados', 'à', 'casa', 'de', 'um', 'velho', 'professor', 'para', 'lá', 'morarem', 'nessa', 'grande', 'casa', 'as', 'crianças', 'eram', 'livres', 'para', 'fazerem', 'o', 'que', 'quiserem', 'durante', 'uma', 'brincadeira', 'a', 'pequena', 'lúcia', 'encontrou', 'um', 'guarda-roupa', 'e', 'entrou', 'nele', 'para', 'se', 'esconder', 'dos', 'irmãos']\n",
            "['o', 'guarda-roupa', 'levava', 'para', 'uma', 'terra', 'mágica', 'chamada', 'nárnia', 'lá', 'lúcia', 'conheceu', 'o', 'fauno', 'tumnus', 'e', 'os', 'dois', 'tornaram-se', 'amigos', 'tumnus', 'lhe', 'contou', 'que', 'nárnia', 'estava', 'sendo', 'governada', 'pela', 'terrível', 'feiticeira', 'branca', 'e', 'por', 'esta', 'razão', 'a', 'terra', 'estava', 'condenada', 'ao', 'inverno', 'eterno']\n",
            "['quando', 'voltou', 'para', 'casa', 'era', 'como', 'as', 'horas', 'não', 'tivessem', 'passado', 'e', 'ninguém', 'deu', 'falta', 'dela', 'lúcia', 'contou', 'aos', 'irmãos', 'sobre', 'nárnia', 'mas', 'eles', 'não', 'acreditaram']\n",
            "['em', 'outro', 'dia', 'edmundo', 'entrou', 'no', 'guarda-roupa', 'e', 'conheceu', 'a', 'feiticeira', 'branca', 'ela', 'por', 'sua', 'vez', 'fez', 'a', 'cabeça', 'do', 'menino', 'para', 'lhe', 'trazer', 'as', 'outras', 'crianças', 'em', 'troca', 'edmundo', 'se', 'tornaria', 'príncipe', 'e', 'mais', 'tarde', 'rei']\n",
            "[]\n",
            "['quando', 'finalmente', 'as', 'quatro', 'crianças', 'estavam', 'em', 'nárnia', 'a', 'feiticeira', 'pode', 'pôr', 'seu', 'plano', 'em', 'prática', 'e', 'ao', 'contrário', 'do', 'que', 'edmundo', 'esperava', 'a', 'feiticeira', 'não', 'pretendia', 'favorece-lo']\n",
            "[]\n",
            "['o', 'cavalo', 'e', 'seu', 'menino:']\n",
            "['nesse', 'livro', 'conhecemos', 'a', 'estória', 'de', 'shasta', 'um', 'menino', 'que', 'morava', 'com', 'um', 'homem', 'que', 'se', 'dizia', 'seu', 'pai', 'na', 'calormânia']\n",
            "['certo', 'dia', 'um', 'tarcaã', 'e', 'seu', 'cavalo', 'se', 'hospedaram', 'em', 'sua', 'casa', 'o', 'homem', 'disse', 'ao', '“pai”', 'de', 'shasta', 'que', 'queria', 'comprar', 'o', 'menino', 'para', 'si', 'shasta', 'ficou', 'com', 'medo', 'pois', 'não', 'sabia', 'o', 'que', 'fazer', 'acabou', 'descobrindo', 'que', 'o', 'cavalo', 'do', 'tarcaã', 'bri', 'sabia', 'falar', 'e', 'vinha', 'de', 'uma', 'terra', 'chamada', 'nárnia']\n",
            "['os', 'dois', 'decidiram', 'fugir', 'juntos', 'para', 'nárnia', 'pois', 'não', 'queria', 'ficar', 'com', 'o', 'tarcaã', 'enquanto', 'seguiam', 'para', 'o', 'norte', 'encontraram', 'uma', 'menina', 'e', 'sua', 'égua', 'aravis', 'e', 'huin', 'que', 'assim', 'como', 'eles', 'estavam', 'fugindo']\n",
            "['em', 'suas', 'aventuras', 'shasta', 'acabou', 'descobrindo', 'que', 'o', 'príncipe', 'dos', 'calormanos', 'tinha', 'a', 'intenção', 'de', 'invadir', 'nárnia', 'pois', 'estava', 'ofendido', 'por', 'susana', 'a', 'rainha', 'de', 'nárnia', 'ter', 'negado', 'seu', 'pedido', 'de', 'casamento', 'restava', 'a', 'shasta', 'e', 'seus', 'amigos', 'impedirem', 'essa', 'guerra']\n",
            "[]\n",
            "['príncipe', 'caspian:']\n",
            "['um', 'ano', 'se', 'passou', 'desde', 'que', 'pedro', 'susana', 'edmundo', 'e', 'lúcia', 'voltaram', 'de', 'nárnia', 'as', 'crianças', 'estavam', 'na', 'estação', 'de', 'trem', 'para', 'irem', 'à', 'escola', 'mas', 'foram', 'puxados', 'por', 'uma', 'força', 'magica', 'até', 'seu', 'antigo', 'castelo']\n",
            "['apesar', 'de', 'ter', 'passo', 'apenas', 'um', 'ano', 'para', 'as', 'crianças', 'em', 'nárnia', 'milhares', 'de', 'anos', 'se', 'passaram', 'e', 'o', 'castelo', 'dos', 'reis', 'e', 'rainhas', 'de', 'nárnia', 'estava', 'abandonado']\n",
            "['nessa', 'nova', 'nárnia', 'a', 'terra', 'tinha', 'sido', 'invadida', 'por', 'teomarinos', 'e', 'o', 'rei', 'deles', 'matou', 'quase', 'todos', 'os', 'habitantes', 'da', 'antiga', 'nárnia', 'não', 'era', 'permitido', 'falar', 'sobre', 'as', 'estórias', 'do', 'passado', 'e', 'nenhum', 'animal', 'podia', 'falar', 'os', 'antigos', 'habitantes', 'tiveram', 'que', 'se', 'esconder', 'do', 'rei', 'durante', 'anos']\n",
            "['pedro', 'susana', 'edmundo', 'e', 'lúcia', 'encontraram', 'na', 'floresta', 'um', 'anão', 'os', 'teomarinos', 'tinham', 'medo', 'da', 'ilha', 'e', 'deixavam', 'as', 'criaturas', 'mágicas', 'lá', 'para', 'morrerem']\n",
            "['trumpkin', 'o', 'anão', 'contou', 'as', 'crianças', 'sobre', 'o', 'rei', 'caspian', 'um', 'garoto', 'sobrinho', 'do', 'rei', 'que', 'após', 'fugir', 'do', 'castelo', 'para', 'não', 'ser', 'morto', 'encontrou', 'as', 'criaturas', 'falantes', 'de', 'nárnia', 'e', 'juntos', 'tinham', 'a', 'intenção', 'de', 'guerrear', 'contra', 'o', 'rei', 'e', 'tomar', 'o', 'seu', 'lugar', 'voltando', 'aos', 'velhos', 'tempos', 'de', 'nárnia']\n",
            "['as', 'crianças', 'então', 'com', 'o', 'auxilio', 'de', 'aslam', 'encontram', 'caspian', 'e', 'seu', 'exercito', 'e', 'conseguem', 'ajudar', 'na', 'batalha']\n",
            "[]\n",
            "['a', 'viagem', 'do', 'peregrino', 'da', 'alvorada:']\n",
            "['o', 'pai', 'dos', 'irmãos', 'pevensie', 'foi', 'chamado', 'para', 'trabalhar', 'como', 'professor', 'nos', 'estados', 'unidos', 'durante', 'quatro', 'meses', 'a', 'mãe', 'resolveu', 'ir', 'junto', 'com', 'ele', 'e', 'levar', 'susana', 'pedro', 'ficou', 'na', 'casa', 'do', 'professor', 'kirke', 'para', 'estudar', 'nas', 'férias', 'mas', 'lúcia', 'e', 'edmundo', 'tiveram', 'que', 'ir', 'para', 'casa', 'dos', 'tios']\n",
            "['edmundo', 'lúcia', 'e', 'eustáquio', 'o', 'primo', 'estavam', 'juntos', 'em', 'um', 'dos', 'quartos', 'da', 'casa', 'e', 'nesse', 'quarto', 'havia', 'um', 'quadro', 'de', 'um', 'navio', 'majestoso', 'com', 'a', 'proa', 'toda', 'em', 'dourado', 'e', 'no', 'formato', 'de', 'uma', 'cabeça', 'de', 'dragão', 'edmundo', 'e', 'lúcia', 'logo', 'reconhecem', 'o', 'navio', 'como', 'sendo', 'de', 'nárnia', 'e', 'ficam', 'extremamente', 'saudosos', 'e', 'com', 'vontade', 'de', 'retornar', 'à', 'terra', 'encantada', 'de', 'repente', 'os', 'três', 'se', 'vêem', 'dentro', 'do', 'navio', 'o', 'grande', 'peregrino', 'da', 'alvorada']\n",
            "['no', 'navio', 'eles', 'encontram', 'o', 'príncipe', 'caspian', 'ripchip', 'lorde', 'drinian', 'dentre', 'outros', 'caspian', 'explica', 'aos', 'garotos', 'que', 'partiu', 'em', 'uma', 'aventura', 'em', 'busca', 'dos', 'sete', 'lordes', 'que', 'eram', 'amigos', 'de', 'seu', 'pai', 'e', 'que', 'haviam', 'sido', 'expulsos', 'quando', 'o', 'trono', 'foi', 'usurpado', 'pelo', 'seu', 'tio', 'miraz']\n",
            "['as', 'criançasdecidem', 'ajudar', 'o', 'príncipe', 'caspian', 'a', 'encontrar', 'esses', 'lordes', 'e', 'em', 'sua', 'busca', 'acabam', 'passando', 'por', 'vários', 'lugares', 'do', 'mundo', 'mágico']\n",
            "[]\n",
            "['a', 'cadeira', 'de', 'prata:']\n",
            "['a', 'estória', 'começa', 'com', 'eustáquio', 'e', 'jill', 'duas', 'crianças', 'que', 'estudavam', 'no', 'colégio', 'experimental', 'na', 'inglaterra', 'e', 'tornaram-se', 'amigas']\n",
            "['depois', 'de', 'uma', 'decepção', 'que', 'jill', 'sofre', 'na', 'escola', 'eustáquio', 'tentando', 'consolá-la', 'conta', 'sobre', 'nárnia', 'aslam', 'e', 'suas', 'aventuras', 'vividas', 'por', 'ele', 'e', 'seus', 'primos', 'anteriormente', 'as', 'duas', 'crianças', 'então', 'desejam', 'ardentemente', 'ir', 'pra', 'nárnia', 'e', 'pedem', 'isso', 'a', 'aslam', 'do', 'fundo', 'do', 'coração']\n",
            "['eustáquio', 'é', 'soprado', 'para', 'nárnia', 'pelo', 'leão', 'e', 'jill', 'encontra-se', 'com', 'o', 'grandioso', 'aslam', 'onde', 'ele', 'entrega', 'sinais', 'a', 'jill', 'para', 'segui-los', 'na', 'missão', 'de', 'encontrar', 'o', 'príncipe', 'perdido', 'rilian', 'filho', 'de', 'caspian', 'x', 'já', 'que', 'caspian', 'estava', 'idoso', 'e', 'queria', 'ver', 'o', 'filho', 'uma', 'última', 'vez', 'antes', 'de', 'morrer', 'o', 'príncipe', 'havia', 'sumido', 'há', 'dez', 'anos', 'nos', 'bosques', 'de', 'nárnia']\n",
            "['as', 'instruções', 'dadas', 'por', 'aslam', 'à', 'jill', 'eram', 'pistas', 'mas', 'no', 'decorrer', 'da', 'história', 'ela', 'esquece', 'algumas', 'o', 'que', 'acaba', 'causando', 'problemas', 'a', 'ela', 'e', 'aos', 'seus', 'amigos', 'durante', 'a', 'busca']\n",
            "[]\n",
            "['a', 'última', 'batalha:']\n",
            "['a', 'história', 'começa', 'quando', 'um', 'velho', 'macaco', 'chamado', 'manhoso', 'junto', 'com', 'um', 'burro', 'chamado', 'confuso', 'encontram', 'uma', 'pele', 'de', 'leão']\n",
            "['o', 'burro', 'então', 'veste', 'a', 'pele', 'do', 'leão', 'e', 'passa', 'a', 'propagar', 'notícias', 'falsas', 'falando', 'que', 'aslam', 'teria', 'voltado', 'e', 'que', 'confuso', 'seria', 'seu', 'porta-voz']\n",
            "['manhoso', 'faz', 'uma', 'aliança', 'com', 'os', 'calormanos', 'para', 'conquistar', 'as', 'terras', 'de', 'nárnia', 'o', 'rei', 'tirian', 'descendente', 'do', 'príncipe', 'rilian', 'toma', 'conhecimento', 'dos', 'planos', 'de', 'confuso', 'e', 'manhoso', 'e', 'vai', 'atrás', 'deles', 'para', 'acabar', 'com', 'o', 'sofrimento', 'dos', 'animais', 'e', 'árvores', 'de', 'nárnia']\n",
            "['mas', 'ao', 'chegar', 'ao', 'local', 'descobre', 'que', 'os', 'calormanos', 'é', 'que', 'estão', 'derrubando', 'as', 'árvores', 'e', 'escravizando', 'os', 'animais', 'tirian', 'acaba', 'se', 'vendendo', 'e', 'passa', 'a', 'noite', 'amarrado', 'a', 'uma', 'árvore', 'até', 'que', 'tem', 'a', 'ideia', 'de', 'pedir', 'ajuda', 'aos', 'amigos', 'de', 'nárnia', 'que', 'estavam', 'em', 'outro', 'mundo']\n",
            "['essa', 'ajuda', 'vivia', 'de', 'pedro', 'edmundo', 'lúcia', 'jill', 'eustáquio', 'polly', 'digory', 'e', 'shasta', 'todas', 'as', 'crianças', 'que', 'já', 'estiveram', 'e', 'ajudaram', 'nárnia', 'anteriormente', 'com', 'exceção', 'de', 'susana', 'que', 'acabou', 'deixando', 'as', 'aventuras', 'de', 'nária', 'de', 'lado']\n",
            "{'olá': 1, 'lebres': 1, 'o': 48, 'livro': 3, 'de': 55, 'hoje': 1, 'é': 5, 'as': 22, 'crônicas': 2, 'nárnia': 28, 'uma': 17, 'série': 2, 'livros': 2, 'fantasia': 1, 'escrita': 1, 'pelo': 3, 'autor': 1, 'irlandês': 1, 'c': 1, 's': 1, 'lewis': 1, 'entre': 1, 'os': 13, 'anos': 4, '1949': 1, 'e': 66, '1954': 1, 'composta': 1, 'pelos': 1, 'em': 17, 'ordem': 1, 'cronologia:': 1, 'sobrinho': 3, 'do': 23, 'mago;': 1, 'leão': 7, 'a': 43, 'feiticeira': 7, 'guarda-roupa;': 1, 'cavalo': 4, 'seu': 14, 'menino;': 1, 'príncipe': 9, 'caspian;': 1, 'viagem': 2, 'peregrino': 3, 'da': 9, 'alvorada;': 1, 'cadeira': 2, 'prata;': 1, 'última': 3, 'batalha': 2, 'apresenta': 1, 'jornadas': 1, 'crianças': 13, 'que': 37, 'contem': 1, 'algo': 2, 'comum': 1, 'todas': 2, 'descobrem': 1, 'um': 20, 'reino': 1, 'mágico': 2, 'fantástico': 1, 'chamado': 4, 'onde': 2, 'animais': 3, 'possuem': 1, 'dom': 1, 'fala': 1, 'seguem': 1, 'grande': 3, 'aslam': 8, 'considerada': 1, 'clássico': 1, 'literário': 1, 'vendeu': 1, 'milhões': 1, 'copias': 1, 'ao': 9, 'redor': 1, 'mundo': 3, 'excelente': 1, 'material': 1, 'para': 24, 'leitores': 1, 'interessados': 1, 'boa': 1, 'história': 3, 'fantástica': 1, 'mago:': 1, 'primeiro': 1, 'narra': 1, 'estória': 3, 'digory': 8, 'garoto': 2, 'morava': 2, 'com': 15, 'mãe': 2, 'doente': 1, 'tios': 2, 'enquanto': 2, 'estava': 7, 'lado': 2, 'fora': 1, 'casa': 8, 'conheceu': 3, 'sua': 5, 'vizinha': 1, 'polly': 6, 'dois': 3, 'se': 12, 'tornaram': 1, 'amigos': 6, 'resolveram': 1, 'investigar': 1, 'sótão': 1, 'tio': 7, 'andré': 2, 'pois': 4, 'acreditava': 1, 'escondia': 1, 'muito': 1, 'importante': 1, 'lá': 4, 'dentro': 2, 'chegando': 1, 'à': 5, 'sala': 3, 'pesquisas': 1, 'viram': 1, 'bandeja': 1, 'anéis': 2, 'verdes': 1, 'amarelos': 2, 'na': 9, 'ofereceu': 1, 'dos': 10, 'tocá-lo': 1, 'menina': 2, 'desapareceu': 1, 'explicou': 1, 'era': 3, 'feiticeiro': 1, 'acabara': 1, 'descobrir': 1, 'outros': 3, 'mundos': 2, 'anel': 1, 'verde': 1, 'traria': 1, 'volta': 1, 'mas': 6, 'isso': 2, 'teria': 2, 'ir': 4, 'atrás': 2, 'dela': 3, 'encontrar': 3, 'percebeu': 1, 'aquele': 1, 'bosque': 1, 'levaria': 1, 'duas': 3, 'foram': 3, 'aventurar': 1, 'antes': 2, 'voltar': 1, 'sem': 1, 'querer': 1, 'despertou': 1, 'terra': 6, 'abandonada': 1, 'ela': 4, 'lhe': 3, 'causou': 1, 'muitos': 1, 'problemas': 2, 'tentar': 1, 'livrarem': 1, 'acabaram': 1, 'assistindo': 1, 'criação': 1, 'por': 9, 'criador': 1, 'dourado': 2, 'guarda-roupa:': 1, 'durante': 5, 'guerra': 2, 'londres': 1, 'quatro': 3, 'irmãos': 4, 'pedro': 5, 'susana': 6, 'edmundo': 10, 'lúcia': 10, 'mandados': 1, 'velho': 2, 'professor': 3, 'morarem': 1, 'nessa': 2, 'eram': 3, 'livres': 1, 'fazerem': 1, 'quiserem': 1, 'brincadeira': 1, 'pequena': 1, 'encontrou': 2, 'guarda-roupa': 3, 'entrou': 2, 'nele': 1, 'esconder': 2, 'levava': 1, 'mágica': 1, 'chamada': 2, 'fauno': 1, 'tumnus': 2, 'tornaram-se': 2, 'contou': 3, 'sendo': 2, 'governada': 1, 'pela': 1, 'terrível': 1, 'branca': 2, 'esta': 1, 'razão': 1, 'condenada': 1, 'inverno': 1, 'eterno': 1, 'quando': 4, 'voltou': 1, 'como': 4, 'horas': 1, 'não': 7, 'tivessem': 1, 'passado': 2, 'ninguém': 1, 'deu': 1, 'falta': 1, 'aos': 5, 'sobre': 4, 'eles': 3, 'acreditaram': 1, 'outro': 2, 'dia': 2, 'no': 5, 'vez': 2, 'fez': 1, 'cabeça': 2, 'menino': 3, 'trazer': 1, 'outras': 1, 'troca': 1, 'tornaria': 1, 'mais': 1, 'tarde': 1, 'rei': 7, 'finalmente': 1, 'estavam': 5, 'pode': 1, 'pôr': 1, 'plano': 1, 'prática': 1, 'contrário': 1, 'esperava': 1, 'pretendia': 1, 'favorece-lo': 1, 'menino:': 1, 'nesse': 2, 'conhecemos': 1, 'shasta': 6, 'homem': 2, 'dizia': 1, 'pai': 3, 'calormânia': 1, 'certo': 1, 'tarcaã': 3, 'hospedaram': 1, 'disse': 1, '“pai”': 1, 'queria': 3, 'comprar': 1, 'si': 1, 'ficou': 2, 'medo': 2, 'sabia': 2, 'fazer': 1, 'acabou': 3, 'descobrindo': 2, 'bri': 1, 'falar': 3, 'vinha': 1, 'decidiram': 1, 'fugir': 2, 'juntos': 3, 'ficar': 1, 'seguiam': 1, 'norte': 1, 'encontraram': 2, 'égua': 1, 'aravis': 1, 'huin': 1, 'assim': 1, 'fugindo': 1, 'suas': 2, 'aventuras': 3, 'calormanos': 3, 'tinha': 2, 'intenção': 2, 'invadir': 1, 'ofendido': 1, 'rainha': 1, 'ter': 2, 'negado': 1, 'pedido': 1, 'casamento': 1, 'restava': 1, 'seus': 3, 'impedirem': 1, 'essa': 2, 'caspian:': 1, 'ano': 2, 'passou': 1, 'desde': 1, 'voltaram': 1, 'estação': 1, 'trem': 1, 'irem': 1, 'escola': 2, 'puxados': 1, 'força': 1, 'magica': 1, 'até': 2, 'antigo': 1, 'castelo': 3, 'apesar': 1, 'passo': 1, 'apenas': 1, 'milhares': 1, 'passaram': 1, 'reis': 1, 'rainhas': 1, 'abandonado': 1, 'nova': 1, 'sido': 2, 'invadida': 1, 'teomarinos': 2, 'deles': 2, 'matou': 1, 'quase': 1, 'todos': 1, 'habitantes': 2, 'antiga': 1, 'permitido': 1, 'estórias': 1, 'nenhum': 1, 'animal': 1, 'podia': 1, 'antigos': 1, 'tiveram': 2, 'floresta': 1, 'anão': 2, 'tinham': 2, 'ilha': 1, 'deixavam': 1, 'criaturas': 2, 'mágicas': 1, 'morrerem': 1, 'trumpkin': 1, 'caspian': 7, 'após': 1, 'ser': 1, 'morto': 1, 'falantes': 1, 'guerrear': 1, 'contra': 1, 'tomar': 1, 'lugar': 1, 'voltando': 1, 'velhos': 1, 'tempos': 1, 'então': 3, 'auxilio': 1, 'encontram': 3, 'exercito': 1, 'conseguem': 1, 'ajudar': 2, 'alvorada:': 1, 'pevensie': 1, 'foi': 2, 'trabalhar': 1, 'nos': 2, 'estados': 1, 'unidos': 1, 'meses': 1, 'resolveu': 1, 'junto': 2, 'ele': 3, 'levar': 1, 'kirke': 1, 'estudar': 1, 'nas': 1, 'férias': 1, 'eustáquio': 5, 'primo': 1, 'quartos': 1, 'quarto': 1, 'havia': 2, 'quadro': 1, 'navio': 4, 'majestoso': 1, 'proa': 1, 'toda': 1, 'formato': 1, 'dragão': 1, 'logo': 1, 'reconhecem': 1, 'ficam': 1, 'extremamente': 1, 'saudosos': 1, 'vontade': 1, 'retornar': 1, 'encantada': 1, 'repente': 1, 'três': 1, 'vêem': 1, 'alvorada': 1, 'ripchip': 1, 'lorde': 1, 'drinian': 1, 'dentre': 1, 'explica': 1, 'garotos': 1, 'partiu': 1, 'aventura': 1, 'busca': 3, 'sete': 1, 'lordes': 2, 'haviam': 1, 'expulsos': 1, 'trono': 1, 'usurpado': 1, 'miraz': 1, 'criançasdecidem': 1, 'esses': 1, 'acabam': 1, 'passando': 1, 'vários': 1, 'lugares': 1, 'prata:': 1, 'começa': 2, 'jill': 6, 'estudavam': 1, 'colégio': 1, 'experimental': 1, 'inglaterra': 1, 'amigas': 1, 'depois': 1, 'decepção': 1, 'sofre': 1, 'tentando': 1, 'consolá-la': 1, 'conta': 1, 'vividas': 1, 'primos': 1, 'anteriormente': 2, 'desejam': 1, 'ardentemente': 1, 'pra': 1, 'pedem': 1, 'fundo': 1, 'coração': 1, 'soprado': 1, 'encontra-se': 1, 'grandioso': 1, 'entrega': 1, 'sinais': 1, 'segui-los': 1, 'missão': 1, 'perdido': 1, 'rilian': 2, 'filho': 2, 'x': 1, 'já': 2, 'idoso': 1, 'ver': 1, 'morrer': 1, 'sumido': 1, 'há': 1, 'dez': 1, 'bosques': 1, 'instruções': 1, 'dadas': 1, 'pistas': 1, 'decorrer': 1, 'esquece': 1, 'algumas': 1, 'acaba': 2, 'causando': 1, 'batalha:': 1, 'macaco': 1, 'manhoso': 3, 'burro': 2, 'confuso': 3, 'pele': 2, 'veste': 1, 'passa': 2, 'propagar': 1, 'notícias': 1, 'falsas': 1, 'falando': 1, 'voltado': 1, 'seria': 1, 'porta-voz': 1, 'faz': 1, 'aliança': 1, 'conquistar': 1, 'terras': 1, 'tirian': 2, 'descendente': 1, 'toma': 1, 'conhecimento': 1, 'planos': 1, 'vai': 1, 'acabar': 1, 'sofrimento': 1, 'árvores': 2, 'chegar': 1, 'local': 1, 'descobre': 1, 'estão': 1, 'derrubando': 1, 'escravizando': 1, 'vendendo': 1, 'noite': 1, 'amarrado': 1, 'árvore': 1, 'tem': 1, 'ideia': 1, 'pedir': 1, 'ajuda': 2, 'vivia': 1, 'estiveram': 1, 'ajudaram': 1, 'exceção': 1, 'deixando': 1, 'nária': 1}\n"
          ]
        }
      ]
    },
    {
      "cell_type": "markdown",
      "source": [
        "# **RESULTADO**"
      ],
      "metadata": {
        "id": "R7c11JyA9Edv"
      }
    },
    {
      "cell_type": "code",
      "source": [
        "df = pd.DataFrame(mydict.items(),  columns=['word', 'count']).sort_values('count',ascending=False)\n",
        "df = df[df['count'] > 4]\n",
        "\n",
        "plt.figure(figsize=(24,10))\n",
        "mpl.style.use(['seaborn'])\n",
        "sns.barplot(x=df.word,y=df['count'])\n",
        "plt.xticks(rotation=90) \n",
        "\n",
        "plt.show()"
      ],
      "metadata": {
        "id": "Cwt8CM2j9HI2",
        "outputId": "0e4db966-fc85-40db-9d0e-e2eed331dfd7",
        "colab": {
          "base_uri": "https://localhost:8080/",
          "height": 440
        }
      },
      "execution_count": null,
      "outputs": [
        {
          "output_type": "display_data",
          "data": {
            "image/png": "[encoded data removed]",
            "text/plain": [
              "<Figure size 1728x720 with 1 Axes>"
            ]
          },
          "metadata": {
            "needs_background": "light"
          }
        }
      ]
    },
    {
      "cell_type": "markdown",
      "source": [
        "# **CONCLUSÃO**"
      ],
      "metadata": {
        "id": "nu9j06-29XRG"
      }
    },
    {
      "cell_type": "markdown",
      "source": [
        "O gráfico do resumo Crônicas de Nárnia com a lei de Zipf que formulada em termos de linguística quantitativa, afirmando que, dado algum corpus de expressões linguísticas naturais, a frequência de qualquer palavra é inversamente proporcional à sua classificação na tabela de frêquencias demonstrou que as palavras que aparecem com maior frequência no gráfico são preposições e as três palavras que mais aparecem são 'nárnia', 'crianças'e 'edmundo'."
      ],
      "metadata": {
        "id": "bi2vUD5X9Z0P"
      }
    }
  ],
  "metadata": {
    "colab": {
      "collapsed_sections": [],
      "name": "Cópia de Cópia de Olá, este é o Colaboratory",
      "provenance": [],
      "include_colab_link": true
    },
    "kernelspec": {
      "display_name": "Python 3",
      "name": "python3"
    }
  },
  "nbformat": 4,
  "nbformat_minor": 0
}