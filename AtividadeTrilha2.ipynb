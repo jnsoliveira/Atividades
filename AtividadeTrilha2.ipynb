{
  "cells": [
    {
      "cell_type": "markdown",
      "metadata": {
        "id": "view-in-github",
        "colab_type": "text"
      },
      "source": [
        "<a href=\"https://colab.research.google.com/github/jnsoliveira/Atividades/blob/main/AtividadeTrilha2.ipynb\" target=\"_parent\"><img src=\"https://colab.research.google.com/assets/colab-badge.svg\" alt=\"Open In Colab\"/></a>"
      ]
    },
    {
      "cell_type": "markdown",
      "source": [
        "## **COLETA E ARMAZENAMENTO DE DADOS**"
      ],
      "metadata": {
        "id": "TbNLcvT--Qct"
      }
    },
    {
      "cell_type": "markdown",
      "source": [
        "**Atividade - Trilha 2**\n",
        "\n",
        "Testar a técnica de Web Scraping utilizando a Biblioteca Beautifulsoap rodando em um notebook Python.\n",
        "\n",
        "Implementar o tutorial disponível no artigo para coletar dados sobre basketball da NBA.\n",
        "- Modifique a apresentação dos resultados utilizando um gráfico de linhas.\n",
        "- Amplie a pesquisa para incluir dados até o ano de 2020.\n",
        "\n",
        "Artigo: https://medium.com/data-hackers/como-fazer-web-scraping-em-python-23c9d465a37f"
      ],
      "metadata": {
        "id": "scS6RB43_Jry"
      }
    },
    {
      "cell_type": "markdown",
      "source": [
        "# **BIBLIOTECAS**"
      ],
      "metadata": {
        "id": "XiK1mGnLADv9"
      }
    },
    {
      "cell_type": "code",
      "source": [
        "import pandas as pd\n",
        "import numpy as np\n",
        "import requests\n",
        "import matplotlib.pyplot as plt\n",
        "import seaborn as sns\n",
        "from bs4 import BeautifulSoup"
      ],
      "metadata": {
        "id": "1U2pyc0zAT7n"
      },
      "execution_count": null,
      "outputs": []
    },
    {
      "cell_type": "code",
      "source": [
        "req = requests.get('https://www.basketball-reference.com/leagues/NBA_2018_totals.html')\n",
        "\n",
        "if req.status_code == 200:\n",
        "  print('Successful')\n",
        "  content = req.content"
      ],
      "metadata": {
        "id": "z7oo0fniAcI_",
        "outputId": "2c14fc5c-742c-4352-ab8d-4e23b541f76a",
        "colab": {
          "base_uri": "https://localhost:8080/"
        }
      },
      "execution_count": null,
      "outputs": [
        {
          "output_type": "stream",
          "name": "stdout",
          "text": [
            "Successful\n"
          ]
        }
      ]
    },
    {
      "cell_type": "code",
      "source": [
        "soup = BeautifulSoup(content, 'html.parser')\n",
        "table = soup.find(name='table')"
      ],
      "metadata": {
        "id": "jL0RtdxYAf9B"
      },
      "execution_count": null,
      "outputs": []
    },
    {
      "cell_type": "code",
      "source": [
        "table = str(table)\n",
        "df = pd.read_html(table)[0]"
      ],
      "metadata": {
        "id": "lmZ-xd_SAjFo"
      },
      "execution_count": null,
      "outputs": []
    },
    {
      "cell_type": "code",
      "source": [
        "def scrape_stats(base_url, year_start, year_end):\n",
        "  years = range(year_start, year_end+1,1)\n",
        "\n",
        "  final_df = pd.DataFrame()\n",
        "\n",
        "  for year in years:\n",
        "    print(\"Extraindo ano {}\".format(year))\n",
        "    req_url = base_url.format(year)\n",
        "    req = requests.get(req_url)\n",
        "    soup = BeautifulSoup(req.content, 'html.parser')\n",
        "    table = soup.find('table', {'id':'totals_stats'})\n",
        "    df = pd.read_html(str(table))[0]\n",
        "    df['Year'] = year\n",
        "\n",
        "    final_df = final_df.append(df)\n",
        "\n",
        "  return final_df\n",
        "\n",
        "url = 'https://www.basketball-reference.com/leagues/NBA_{}_totals.html'\n",
        "\n",
        "df = scrape_stats(url, 2013, 2020)"
      ],
      "metadata": {
        "id": "_29trJTQAnO4",
        "outputId": "6fc945f5-1fd9-430f-a032-9dcf97617d23",
        "colab": {
          "base_uri": "https://localhost:8080/"
        }
      },
      "execution_count": null,
      "outputs": [
        {
          "output_type": "stream",
          "name": "stdout",
          "text": [
            "Extraindo ano 2013\n",
            "Extraindo ano 2014\n",
            "Extraindo ano 2015\n",
            "Extraindo ano 2016\n",
            "Extraindo ano 2017\n",
            "Extraindo ano 2018\n",
            "Extraindo ano 2019\n",
            "Extraindo ano 2020\n"
          ]
        }
      ]
    },
    {
      "cell_type": "code",
      "source": [
        "df.reset_index(inplace = True)\n",
        "\n",
        "#Pega indexes onde a coluna 'Rk' possui valor 'Rk'\n",
        "drop_indexes = df[df['Rk'] == 'Rk'].index\n",
        "\n",
        "#Deleta os valores dos index passados da tabela\n",
        "df.drop(drop_indexes, inplace = True)"
      ],
      "metadata": {
        "id": "n9wAi1BNApAK"
      },
      "execution_count": null,
      "outputs": []
    },
    {
      "cell_type": "code",
      "source": [
        "numeric_cols = df.columns.drop(['Player', 'Pos', 'Tm'])\n",
        "df[numeric_cols] = df[numeric_cols].apply(pd.to_numeric)"
      ],
      "metadata": {
        "id": "9tABMc_pAsSa"
      },
      "execution_count": null,
      "outputs": []
    },
    {
      "cell_type": "code",
      "source": [
        "sns.barplot(data = df, x='Year', y='3PA')"
      ],
      "metadata": {
        "id": "9qYt5dWYAtiw",
        "outputId": "38c67d9e-1040-4f5f-d22f-16c9b2ae91ed",
        "colab": {
          "base_uri": "https://localhost:8080/",
          "height": 296
        }
      },
      "execution_count": null,
      "outputs": [
        {
          "output_type": "execute_result",
          "data": {
            "text/plain": [
              "<matplotlib.axes._subplots.AxesSubplot at 0x7f1db6cd8810>"
            ]
          },
          "metadata": {},
          "execution_count": 62
        },
        {
          "output_type": "display_data",
          "data": {
            "image/png": "[encoded data removed]",
            "text/plain": [
              "<Figure size 432x288 with 1 Axes>"
            ]
          },
          "metadata": {
            "needs_background": "light"
          }
        }
      ]
    },
    {
      "cell_type": "code",
      "source": [
        "sns.lineplot(data = df, x='Year', y='3PA')"
      ],
      "metadata": {
        "id": "aHb7He0oAvjF",
        "outputId": "7806ecc2-f3ba-44b9-d765-5cfb00a4c322",
        "colab": {
          "base_uri": "https://localhost:8080/",
          "height": 296
        }
      },
      "execution_count": null,
      "outputs": [
        {
          "output_type": "execute_result",
          "data": {
            "text/plain": [
              "<matplotlib.axes._subplots.AxesSubplot at 0x7f1db7573f10>"
            ]
          },
          "metadata": {},
          "execution_count": 63
        },
        {
          "output_type": "display_data",
          "data": {
            "image/png": "[encoded data removed]",
            "text/plain": [
              "<Figure size 432x288 with 1 Axes>"
            ]
          },
          "metadata": {
            "needs_background": "light"
          }
        }
      ]
    }
  ],
  "metadata": {
    "colab": {
      "collapsed_sections": [],
      "name": "AtividadeTrilha2",
      "provenance": [],
      "include_colab_link": true
    },
    "kernelspec": {
      "display_name": "Python 3",
      "name": "python3"
    }
  },
  "nbformat": 4,
  "nbformat_minor": 0
}