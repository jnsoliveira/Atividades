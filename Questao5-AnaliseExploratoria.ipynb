{
  "cells": [
    {
      "cell_type": "markdown",
      "metadata": {
        "id": "view-in-github",
        "colab_type": "text"
      },
      "source": [
        "<a href=\"https://colab.research.google.com/github/jnsoliveira/Atividades/blob/main/Questao5-AnaliseExploratoria.ipynb\" target=\"_parent\"><img src=\"https://colab.research.google.com/assets/colab-badge.svg\" alt=\"Open In Colab\"/></a>"
      ]
    },
    {
      "cell_type": "code",
      "source": [
        "#Bibliotecas\n",
        "\n",
        "import pandas as pd"
      ],
      "metadata": {
        "id": "i9ynM9qTYwxq"
      },
      "execution_count": 1,
      "outputs": []
    },
    {
      "cell_type": "code",
      "source": [
        "# Arquivo vendas em dataframe\n",
        "df = pd.read_csv('vendas_tran.csv',header=None,encoding='latin1',on_bad_lines='skip',sep=';')\n",
        "\n",
        "# Colunas do df\n",
        "df_vendedor.columns\n",
        "\n",
        "# Quantas operacoes Anna teve\n",
        "(df[20]=='3029').value_counts()\n",
        "\n",
        "# Quantas operacoes Chuck teve\n",
        "(df[20]=='3030').value_counts()\n",
        "\n",
        "# Cidades com maior frequencia\n",
        "df[10].value_counts()\n",
        "\n",
        "# Quantas operacoes cada vendedor teve\n",
        "df[20].value_counts()\n",
        "\n"
      ],
      "metadata": {
        "id": "KlBEgfdKZErX",
        "outputId": "4f9abc44-95f9-49b1-f808-68da428b44c1",
        "colab": {
          "base_uri": "https://localhost:8080/"
        }
      },
      "execution_count": 123,
      "outputs": [
        {
          "output_type": "execute_result",
          "data": {
            "text/plain": [
              "3031             3755\n",
              "3032             2739\n",
              "3030             2292\n",
              "3029             1208\n",
              "SalesPersonId       1\n",
              "Name: 20, dtype: int64"
            ]
          },
          "metadata": {},
          "execution_count": 123
        }
      ]
    }
  ],
  "metadata": {
    "colab": {
      "collapsed_sections": [],
      "name": "Welcome To Colaboratory",
      "provenance": [],
      "include_colab_link": true
    },
    "kernelspec": {
      "display_name": "Python 3",
      "name": "python3"
    }
  },
  "nbformat": 4,
  "nbformat_minor": 0
}